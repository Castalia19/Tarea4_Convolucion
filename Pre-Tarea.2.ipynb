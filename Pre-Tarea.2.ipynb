{
 "cells": [
  {
   "cell_type": "markdown",
   "id": "8f292f1f",
   "metadata": {},
   "source": [
    "Se importan las liberías necesarias"
   ]
  },
  {
   "cell_type": "code",
   "execution_count": 1,
   "id": "ba84076a",
   "metadata": {},
   "outputs": [],
   "source": [
    "import tensorflow\n",
    "import emnist\n",
    "import numpy as np\n",
    "from keras.models import Sequential, Model\n",
    "from keras.layers import Dense\n",
    "from keras.layers import Dropout\n",
    "from keras.layers import Flatten\n",
    "from keras.layers.convolutional import Conv2D\n",
    "from keras.layers.convolutional import MaxPooling2D\n",
    "from keras.utils import np_utils\n",
    "import matplotlib.pyplot as plt\n",
    "\n",
    "import PIL\n",
    "from keract import get_activations\n",
    "from keract import display_activations\n",
    "\n",
    "\n",
    "import glob\n",
    "import matplotlib\n",
    "from keras import models\n",
    "from keras.preprocessing import image\n",
    "from keras.preprocessing.image import ImageDataGenerator\n",
    "from keras.callbacks import ModelCheckpoint"
   ]
  },
  {
   "cell_type": "markdown",
   "id": "37856df1",
   "metadata": {},
   "source": [
    "Se crea una función que obtendrá una serie de datos aletarios para hacer el enetrenamiento y las pruebas. La función sirve para ambos casos: de entrada recibe las imágenes y las etiquetas de los datos de entramiento o los datos de pruebas y una variable n que define cuántos datos serán seleccionados para ser utilizados en la red neuronal convolucional."
   ]
  },
  {
   "cell_type": "code",
   "execution_count": 2,
   "id": "ac4e7cc2",
   "metadata": {},
   "outputs": [],
   "source": [
    "def selec_random(images, labels, n):\n",
    "    X = np.array([])\n",
    "    y = np.array([])\n",
    "    letter = np.array([])\n",
    "    total_index = np.array([])\n",
    "    index = 0\n",
    "    for i in range(26):\n",
    "        letter = np.array([])\n",
    "        index = 0\n",
    "        for k in labels:\n",
    "            if i+1 == k:\n",
    "                letter = np.append(letter,index)\n",
    "            index = index + 1\n",
    "        index2 = np.random.choice(letter, n, replace=False)\n",
    "        index2 = index2.astype(int)\n",
    "        total_index = np.append(total_index,index2)\n",
    "    total_index = total_index.astype(int)\n",
    "    total_index = np.sort(total_index)\n",
    "    X = images[total_index[0]]\n",
    "    y = labels[total_index[0]]\n",
    "    total_index = np.delete(total_index, 0)\n",
    "    X = X[np.newaxis, ...]\n",
    "    for j in total_index:\n",
    "        X = np.concatenate([X, images[j][None,...]], axis=0)\n",
    "        y = np.append(y,labels[j])\n",
    "    return X,y"
   ]
  },
  {
   "cell_type": "markdown",
   "id": "b6dd34f0",
   "metadata": {},
   "source": [
    "Se obtienen los tipos de datos que el conjunto de datos EMNIST ofrece. De esta forma se reconce que el abecedario escrito a mano será en el dataset llamado 'letters'."
   ]
  },
  {
   "cell_type": "code",
   "execution_count": 3,
   "id": "030c99f5",
   "metadata": {},
   "outputs": [
    {
     "data": {
      "text/plain": [
       "['balanced', 'byclass', 'bymerge', 'digits', 'letters', 'mnist']"
      ]
     },
     "execution_count": 3,
     "metadata": {},
     "output_type": "execute_result"
    }
   ],
   "source": [
    "from emnist import list_datasets\n",
    "list_datasets()"
   ]
  },
  {
   "cell_type": "markdown",
   "id": "9c1e58f2",
   "metadata": {},
   "source": [
    "Se obtienen los datos de entrenamiento dados por el conjunto de datos EMNIST y a su vez, por medio de la función selec_random se separan 100 de esos datos para utilizar en la red neuronal."
   ]
  },
  {
   "cell_type": "code",
   "execution_count": 4,
   "id": "21cf878b",
   "metadata": {},
   "outputs": [
    {
     "name": "stdout",
     "output_type": "stream",
     "text": [
      "Dimensiones del array de entrada de entrenamiento: (2600, 28, 28)\n",
      "Dimensiones del array de entrada de entrenamiento: (2600,)\n"
     ]
    }
   ],
   "source": [
    "from emnist import extract_training_samples\n",
    "images_train, labels_train = extract_training_samples('letters')\n",
    "X_train, y_train = selec_random(images_train, labels_train, 100)\n",
    "print(\"Dimensiones del array de entrada de entrenamiento:\",X_train.shape)\n",
    "print(\"Dimensiones del array de entrada de entrenamiento:\",y_train.shape)"
   ]
  },
  {
   "cell_type": "markdown",
   "id": "a13ad71e",
   "metadata": {},
   "source": [
    "De la misma forma se seleccionan 60 datos para las pruebas."
   ]
  },
  {
   "cell_type": "code",
   "execution_count": 5,
   "id": "a6d1d252",
   "metadata": {},
   "outputs": [
    {
     "name": "stdout",
     "output_type": "stream",
     "text": [
      "Dimensiones del array de entrada de pruebas: (1560, 28, 28)\n",
      "Dimensiones del array de salida de pruebas: (1560,)\n"
     ]
    }
   ],
   "source": [
    "from emnist import extract_test_samples\n",
    "images_test, labels_test = extract_test_samples('letters')\n",
    "X_test, y_test = selec_random(images_test, labels_test, 60)\n",
    "print(\"Dimensiones del array de entrada de pruebas:\",X_test.shape)\n",
    "print(\"Dimensiones del array de salida de pruebas:\",y_test.shape)"
   ]
  },
  {
   "cell_type": "markdown",
   "id": "3b66d0e6",
   "metadata": {},
   "source": [
    "Seguidamente se redimencionan las entradas, tanto las imágenes de entrenamiento como las de prueba. Esto es con el fin de que Keras pueda ser capaz de entrenar la red, pues esperan valores de píxeles con las dimensiones [píxeles] [ancho] [alto] [canales]."
   ]
  },
  {
   "cell_type": "code",
   "execution_count": 7,
   "id": "d5b42c23",
   "metadata": {},
   "outputs": [],
   "source": [
    "# reshape to be [samples][width][height][channels]\n",
    "X_train = X_train.reshape((X_train.shape[0], 28, 28, 1)).astype('float32')\n",
    "X_test = X_test.reshape((X_test.shape[0], 28, 28, 1)).astype('float32')"
   ]
  },
  {
   "cell_type": "code",
   "execution_count": 8,
   "id": "5809e001",
   "metadata": {},
   "outputs": [
    {
     "data": {
      "text/plain": [
       "(2600, 28, 28, 1)"
      ]
     },
     "execution_count": 8,
     "metadata": {},
     "output_type": "execute_result"
    }
   ],
   "source": [
    "X_train.shape"
   ]
  },
  {
   "cell_type": "markdown",
   "id": "c798cd3a",
   "metadata": {},
   "source": [
    "Se redimensionan las variables en entradas de 0 a 1 y a las salidas se les utiliza la función One Hot Encode para obtener una columna por cada salida."
   ]
  },
  {
   "cell_type": "code",
   "execution_count": 9,
   "id": "9a39ea14",
   "metadata": {},
   "outputs": [],
   "source": [
    "# normalize inputs from 0-255 to 0-1\n",
    "X_train = X_train / 255\n",
    "X_test = X_test / 255\n",
    "# one hot encode outputs\n",
    "y_train2 = y_train\n",
    "y_train = np_utils.to_categorical(y_train)\n",
    "y_test = np_utils.to_categorical(y_test)\n",
    "num_classes = y_test.shape[1]"
   ]
  },
  {
   "cell_type": "markdown",
   "id": "05659e3c",
   "metadata": {},
   "source": [
    "Esta parte define una función act_map. En ella se crea un array_i, que posee los índices de las letras en orden alfábetico. Por lo que el primer elemento del array corresponde a la primer letra 'a' que tiene los datos de entradas de entrenamiento y el último elemento posee la primer letra 'z' que aparece en los mismos datos. La creación de este array será útil para poder enseñar el mapa de activación. Así, por medio de cada índice del array_i se permite mostrar la imagen de cada letra."
   ]
  },
  {
   "cell_type": "markdown",
   "id": "b1f67765",
   "metadata": {},
   "source": [
    "Se define la función modelo de la red neuronal convolucional, donde k es un parámetro de entrada que recibirá la cantidad de núcleos de convolución. Además, se recibe un booleano llamado graf, si este es verdadero se mostrará el mapa de activación de una letra "
   ]
  },
  {
   "cell_type": "code",
   "execution_count": 10,
   "id": "73b6cd2a",
   "metadata": {},
   "outputs": [],
   "source": [
    "# define a simple CNN model\n",
    "def baseline_model(k,pixel,pool):\n",
    "    # create model\n",
    "    model = Sequential()\n",
    "    model.add(Conv2D(k, (pixel, pixel), input_shape=(28, 28, 1), activation='relu'))\n",
    "    model.add(MaxPooling2D(pool_size=(pool, pool)))\n",
    "    model.add(Dropout(0.2))\n",
    "    model.add(Flatten())\n",
    "    model.add(Dense(128, activation='relu'))\n",
    "    model.add(Dense(num_classes, activation='softmax'))\n",
    "    # Compile model\n",
    "    model.compile(loss='categorical_crossentropy', optimizer='adam', metrics=['accuracy'])\n",
    "    return model"
   ]
  },
  {
   "cell_type": "markdown",
   "id": "bef34c48",
   "metadata": {},
   "source": [
    "Se crea y entrena el modelo de la red CNN."
   ]
  },
  {
   "cell_type": "code",
   "execution_count": 11,
   "id": "eb45e891",
   "metadata": {},
   "outputs": [
    {
     "name": "stdout",
     "output_type": "stream",
     "text": [
      "Epoch 1/30\n",
      "82/82 - 1s - loss: 2.1088 - accuracy: 0.3912\n",
      "Epoch 2/30\n",
      "82/82 - 1s - loss: 1.1595 - accuracy: 0.6515\n",
      "Epoch 3/30\n",
      "82/82 - 1s - loss: 0.8657 - accuracy: 0.7404\n",
      "Epoch 4/30\n",
      "82/82 - 1s - loss: 0.6780 - accuracy: 0.7900\n",
      "Epoch 5/30\n",
      "82/82 - 1s - loss: 0.5367 - accuracy: 0.8408\n",
      "Epoch 6/30\n",
      "82/82 - 1s - loss: 0.4261 - accuracy: 0.8673\n",
      "Epoch 7/30\n",
      "82/82 - 1s - loss: 0.3476 - accuracy: 0.8823\n",
      "Epoch 8/30\n",
      "82/82 - 1s - loss: 0.2874 - accuracy: 0.8996\n",
      "Epoch 9/30\n",
      "82/82 - 1s - loss: 0.2345 - accuracy: 0.9250\n",
      "Epoch 10/30\n",
      "82/82 - 1s - loss: 0.1855 - accuracy: 0.9412\n",
      "Epoch 11/30\n",
      "82/82 - 1s - loss: 0.1563 - accuracy: 0.9481\n",
      "Epoch 12/30\n",
      "82/82 - 1s - loss: 0.1402 - accuracy: 0.9481\n",
      "Epoch 13/30\n",
      "82/82 - 1s - loss: 0.1130 - accuracy: 0.9681\n",
      "Epoch 14/30\n",
      "82/82 - 1s - loss: 0.0974 - accuracy: 0.9677\n",
      "Epoch 15/30\n",
      "82/82 - 1s - loss: 0.1022 - accuracy: 0.9696\n",
      "Epoch 16/30\n",
      "82/82 - 1s - loss: 0.0810 - accuracy: 0.9762\n",
      "Epoch 17/30\n",
      "82/82 - 1s - loss: 0.0622 - accuracy: 0.9812\n",
      "Epoch 18/30\n",
      "82/82 - 1s - loss: 0.0743 - accuracy: 0.9765\n",
      "Epoch 19/30\n",
      "82/82 - 1s - loss: 0.0664 - accuracy: 0.9765\n",
      "Epoch 20/30\n",
      "82/82 - 1s - loss: 0.0656 - accuracy: 0.9765\n",
      "Epoch 21/30\n",
      "82/82 - 1s - loss: 0.0564 - accuracy: 0.9827\n",
      "Epoch 22/30\n",
      "82/82 - 1s - loss: 0.0436 - accuracy: 0.9854\n",
      "Epoch 23/30\n",
      "82/82 - 1s - loss: 0.0466 - accuracy: 0.9850\n",
      "Epoch 24/30\n",
      "82/82 - 1s - loss: 0.0457 - accuracy: 0.9862\n",
      "Epoch 25/30\n",
      "82/82 - 1s - loss: 0.0425 - accuracy: 0.9842\n",
      "Epoch 26/30\n",
      "82/82 - 1s - loss: 0.0440 - accuracy: 0.9835\n",
      "Epoch 27/30\n",
      "82/82 - 1s - loss: 0.0328 - accuracy: 0.9896\n",
      "Epoch 28/30\n",
      "82/82 - 1s - loss: 0.0388 - accuracy: 0.9854\n",
      "Epoch 29/30\n",
      "82/82 - 1s - loss: 0.0419 - accuracy: 0.9869\n",
      "Epoch 30/30\n",
      "82/82 - 1s - loss: 0.0286 - accuracy: 0.9919\n",
      "49/49 [==============================] - 0s 3ms/step - loss: 1.1011 - accuracy: 0.7756\n"
     ]
    }
   ],
   "source": [
    "# construcción del modelo\n",
    "model = baseline_model(24,5,2)\n",
    "# Fit the model\n",
    "model.fit(X_train, y_train, epochs=30, verbose=2)\n",
    "# Evaluación final del modelo\n",
    "loss_var, accuracy_var = model.evaluate(X_test, y_test)"
   ]
  },
  {
   "cell_type": "code",
   "execution_count": 143,
   "id": "86a8f039",
   "metadata": {},
   "outputs": [
    {
     "name": "stdout",
     "output_type": "stream",
     "text": [
      "Epoch 1/20\n",
      "82/82 - 1s - loss: 1.8753 - accuracy: 0.4758 - val_loss: 1.3060 - val_accuracy: 0.6071\n",
      "Epoch 2/20\n",
      "82/82 - 1s - loss: 1.0730 - accuracy: 0.6769 - val_loss: 1.1223 - val_accuracy: 0.6737\n",
      "Epoch 3/20\n",
      "82/82 - 0s - loss: 0.7686 - accuracy: 0.7804 - val_loss: 1.0557 - val_accuracy: 0.6833\n",
      "Epoch 4/20\n",
      "82/82 - 1s - loss: 0.5628 - accuracy: 0.8431 - val_loss: 0.9915 - val_accuracy: 0.7006\n",
      "Epoch 5/20\n",
      "82/82 - 1s - loss: 0.4436 - accuracy: 0.8742 - val_loss: 0.9206 - val_accuracy: 0.7282\n",
      "Epoch 6/20\n",
      "82/82 - 0s - loss: 0.3135 - accuracy: 0.9246 - val_loss: 0.9147 - val_accuracy: 0.7276\n",
      "Epoch 7/20\n",
      "82/82 - 1s - loss: 0.2424 - accuracy: 0.9377 - val_loss: 0.9398 - val_accuracy: 0.7218\n",
      "Epoch 8/20\n",
      "82/82 - 1s - loss: 0.2086 - accuracy: 0.9469 - val_loss: 0.8797 - val_accuracy: 0.7487\n",
      "Epoch 9/20\n",
      "82/82 - 1s - loss: 0.1449 - accuracy: 0.9669 - val_loss: 0.8790 - val_accuracy: 0.7417\n",
      "Epoch 10/20\n",
      "82/82 - 1s - loss: 0.1081 - accuracy: 0.9796 - val_loss: 0.9007 - val_accuracy: 0.7487\n",
      "Epoch 11/20\n",
      "82/82 - 0s - loss: 0.0859 - accuracy: 0.9827 - val_loss: 0.8868 - val_accuracy: 0.7609\n",
      "Epoch 12/20\n",
      "82/82 - 0s - loss: 0.0786 - accuracy: 0.9808 - val_loss: 0.9132 - val_accuracy: 0.7615\n",
      "Epoch 13/20\n",
      "82/82 - 0s - loss: 0.0738 - accuracy: 0.9804 - val_loss: 0.9097 - val_accuracy: 0.7462\n",
      "Epoch 14/20\n",
      "82/82 - 0s - loss: 0.0615 - accuracy: 0.9831 - val_loss: 0.9094 - val_accuracy: 0.7603\n",
      "Epoch 15/20\n",
      "82/82 - 0s - loss: 0.0502 - accuracy: 0.9873 - val_loss: 0.9278 - val_accuracy: 0.7577\n",
      "Epoch 16/20\n",
      "82/82 - 1s - loss: 0.0504 - accuracy: 0.9865 - val_loss: 0.9475 - val_accuracy: 0.7526\n",
      "Epoch 17/20\n",
      "82/82 - 0s - loss: 0.0440 - accuracy: 0.9908 - val_loss: 0.9395 - val_accuracy: 0.7545\n",
      "Epoch 18/20\n",
      "82/82 - 0s - loss: 0.0387 - accuracy: 0.9881 - val_loss: 0.9517 - val_accuracy: 0.7577\n",
      "Epoch 19/20\n",
      "82/82 - 1s - loss: 0.0332 - accuracy: 0.9919 - val_loss: 0.9511 - val_accuracy: 0.7583\n",
      "Epoch 20/20\n",
      "82/82 - 0s - loss: 0.0349 - accuracy: 0.9888 - val_loss: 0.9567 - val_accuracy: 0.7564\n",
      "Baseline Error: 24.36%\n"
     ]
    }
   ],
   "source": [
    "from emnist import extract_training_samples\n",
    "from emnist import extract_test_samples\n",
    "\n",
    "images_train, labels_train = extract_training_samples('letters')\n",
    "X_train = images_train\n",
    "y_train = labels_train\n",
    "X_train, y_train = selec_random(images_train, labels_train, 100)\n",
    "\n",
    "images_test, labels_test = extract_test_samples('letters')\n",
    "X_test = images_test\n",
    "y_test = labels_test\n",
    "X_test, y_test = selec_random(images_test, labels_test, 60)\n",
    "\n",
    "num_pixels = X_train.shape[1] * X_train.shape[2]\n",
    "X_train = X_train.reshape((X_train.shape[0], num_pixels)).astype('float32')\n",
    "X_test = X_test.reshape((X_test.shape[0], num_pixels)).astype('float32')\n",
    "X_train = X_train / 255\n",
    "X_test = X_test / 255\n",
    "y_train = np_utils.to_categorical(y_train)\n",
    "y_test = np_utils.to_categorical(y_test)\n",
    "num_classes = y_test.shape[1]\n",
    "\n",
    "# define baseline model\n",
    "def baseline_model():\n",
    "    # create model\n",
    "    model = Sequential()\n",
    "    model.add(Dense(num_pixels, input_dim=num_pixels, kernel_initializer='normal', activation='relu'))\n",
    "    model.add(Dense(num_classes, kernel_initializer='normal', activation='softmax'))\n",
    "    # Compile model\n",
    "    model.compile(loss='categorical_crossentropy', optimizer='adam', metrics=['accuracy'])\n",
    "    return model\n",
    "\n",
    "# build the model\n",
    "model = baseline_model()\n",
    "# Fit the model\n",
    "model.fit(X_train, y_train, validation_data=(X_test, y_test), epochs=20, verbose=2)\n",
    "# Final evaluation of the model\n",
    "scores = model.evaluate(X_test, y_test, verbose=0)\n",
    "print(\"Baseline Error: %.2f%%\" % (100-scores[1]*100))"
   ]
  },
  {
   "cell_type": "code",
   "execution_count": 24,
   "id": "ff215871",
   "metadata": {},
   "outputs": [
    {
     "data": {
      "image/png": "[encoded data removed]",
      "text/plain": [
       "<Figure size 640x480 with 24 Axes>"
      ]
     },
     "metadata": {},
     "output_type": "display_data"
    }
   ],
   "source": [
    "filters, biases = model.layers[0].get_weights()\n",
    "f_min, f_max = filters.min(), filters.max()\n",
    "filters = (filters - f_min) / (f_max - f_min)\n",
    "\n",
    "# plot first few filters\n",
    "n_filters, ix = 24, 1 ###############\n",
    "for i in range(n_filters):\n",
    "    # get the filter\n",
    "    f = filters[:, :, :, i]\n",
    "    # plot each channel separately\n",
    "    # specify subplot and turn of axis\n",
    "    ax = plt.subplot(n_filters, 3, ix)\n",
    "    ax.set_xticks([])\n",
    "    ax.set_yticks([])\n",
    "    # plot filter channel in grayscale\n",
    "    plt.imshow(f[:, :, 0], cmap='gray')\n",
    "    ix += 1\n",
    "plt.show()"
   ]
  },
  {
   "cell_type": "code",
   "execution_count": 108,
   "id": "37eca5fa",
   "metadata": {},
   "outputs": [
    {
     "data": {
      "text/plain": [
       "(28, 28, 1)"
      ]
     },
     "execution_count": 108,
     "metadata": {},
     "output_type": "execute_result"
    }
   ],
   "source": [
    "model2 = Model(inputs=model.inputs, outputs=model.layers[0].output)\n",
    "#X_t = np.squeeze(X_train[0] , axis = 2)\n",
    "X_t = X_train[0]\n",
    "X_t.shape"
   ]
  },
  {
   "cell_type": "code",
   "execution_count": 113,
   "id": "f5859958",
   "metadata": {},
   "outputs": [
    {
     "data": {
      "text/plain": [
       "(2, 24, 24, 24)"
      ]
     },
     "execution_count": 113,
     "metadata": {},
     "output_type": "execute_result"
    }
   ],
   "source": [
    "arreglo = np.array([X_train[0],X_train[1]])\n",
    "#arr_sq = np.squeeze(arreglo , axis = 2)\n",
    "feature_maps = model2.predict(arreglo)\n",
    "feature_maps.shape"
   ]
  },
  {
   "cell_type": "code",
   "execution_count": 119,
   "id": "9a0ab9fa",
   "metadata": {},
   "outputs": [
    {
     "data": {
      "image/png": "[encoded data removed]",
      "text/plain": [
       "<Figure size 432x288 with 1 Axes>"
      ]
     },
     "metadata": {},
     "output_type": "display_data"
    },
    {
     "data": {
      "image/png": "[encoded data removed]",
      "text/plain": [
       "<Figure size 432x288 with 1 Axes>"
      ]
     },
     "metadata": {},
     "output_type": "display_data"
    },
    {
     "data": {
      "image/png": "[encoded data removed]",
      "text/plain": [
       "<Figure size 432x288 with 1 Axes>"
      ]
     },
     "metadata": {},
     "output_type": "display_data"
    },
    {
     "data": {
      "image/png": "[encoded data removed]",
      "text/plain": [
       "<Figure size 432x288 with 1 Axes>"
      ]
     },
     "metadata": {},
     "output_type": "display_data"
    },
    {
     "data": {
      "image/png": "[encoded data removed]",
      "text/plain": [
       "<Figure size 432x288 with 1 Axes>"
      ]
     },
     "metadata": {},
     "output_type": "display_data"
    },
    {
     "data": {
      "image/png": "[encoded data removed]",
      "text/plain": [
       "<Figure size 432x288 with 1 Axes>"
      ]
     },
     "metadata": {},
     "output_type": "display_data"
    },
    {
     "data": {
      "image/png": "[encoded data removed]",
      "text/plain": [
       "<Figure size 432x288 with 1 Axes>"
      ]
     },
     "metadata": {},
     "output_type": "display_data"
    },
    {
     "data": {
      "image/png": "[encoded data removed]",
      "text/plain": [
       "<Figure size 432x288 with 1 Axes>"
      ]
     },
     "metadata": {},
     "output_type": "display_data"
    },
    {
     "data": {
      "image/png": "[encoded data removed]",
      "text/plain": [
       "<Figure size 432x288 with 1 Axes>"
      ]
     },
     "metadata": {},
     "output_type": "display_data"
    },
    {
     "data": {
      "image/png": "[encoded data removed]",
      "text/plain": [
       "<Figure size 432x288 with 1 Axes>"
      ]
     },
     "metadata": {},
     "output_type": "display_data"
    },
    {
     "data": {
      "image/png": "[encoded data removed]",
      "text/plain": [
       "<Figure size 432x288 with 1 Axes>"
      ]
     },
     "metadata": {},
     "output_type": "display_data"
    },
    {
     "data": {
      "image/png": "[encoded data removed]",
      "text/plain": [
       "<Figure size 432x288 with 1 Axes>"
      ]
     },
     "metadata": {},
     "output_type": "display_data"
    },
    {
     "data": {
      "image/png": "[encoded data removed]",
      "text/plain": [
       "<Figure size 432x288 with 1 Axes>"
      ]
     },
     "metadata": {},
     "output_type": "display_data"
    },
    {
     "data": {
      "image/png": "[encoded data removed]",
      "text/plain": [
       "<Figure size 432x288 with 1 Axes>"
      ]
     },
     "metadata": {},
     "output_type": "display_data"
    },
    {
     "data": {
      "image/png": "[encoded data removed]",
      "text/plain": [
       "<Figure size 432x288 with 1 Axes>"
      ]
     },
     "metadata": {},
     "output_type": "display_data"
    },
    {
     "data": {
      "image/png": "[encoded data removed]",
      "text/plain": [
       "<Figure size 432x288 with 1 Axes>"
      ]
     },
     "metadata": {},
     "output_type": "display_data"
    },
    {
     "data": {
      "image/png": "[encoded data removed]",
      "text/plain": [
       "<Figure size 432x288 with 1 Axes>"
      ]
     },
     "metadata": {},
     "output_type": "display_data"
    },
    {
     "data": {
      "image/png": "[encoded data removed]",
      "text/plain": [
       "<Figure size 432x288 with 1 Axes>"
      ]
     },
     "metadata": {},
     "output_type": "display_data"
    },
    {
     "data": {
      "image/png": "[encoded data removed]",
      "text/plain": [
       "<Figure size 432x288 with 1 Axes>"
      ]
     },
     "metadata": {},
     "output_type": "display_data"
    },
    {
     "data": {
      "image/png": "[encoded data removed]",
      "text/plain": [
       "<Figure size 432x288 with 1 Axes>"
      ]
     },
     "metadata": {},
     "output_type": "display_data"
    },
    {
     "data": {
      "image/png": "[encoded data removed]",
      "text/plain": [
       "<Figure size 432x288 with 1 Axes>"
      ]
     },
     "metadata": {},
     "output_type": "display_data"
    },
    {
     "data": {
      "image/png": "[encoded data removed]",
      "text/plain": [
       "<Figure size 432x288 with 1 Axes>"
      ]
     },
     "metadata": {},
     "output_type": "display_data"
    },
    {
     "data": {
      "image/png": "[encoded data removed]",
      "text/plain": [
       "<Figure size 432x288 with 1 Axes>"
      ]
     },
     "metadata": {},
     "output_type": "display_data"
    },
    {
     "data": {
      "image/png": "[encoded data removed]",
      "text/plain": [
       "<Figure size 432x288 with 1 Axes>"
      ]
     },
     "metadata": {},
     "output_type": "display_data"
    },
    {
     "data": {
      "image/png": "[encoded data removed]",
      "text/plain": [
       "<Figure size 432x288 with 1 Axes>"
      ]
     },
     "metadata": {},
     "output_type": "display_data"
    },
    {
     "data": {
      "image/png": "[encoded data removed]",
      "text/plain": [
       "<Figure size 432x288 with 1 Axes>"
      ]
     },
     "metadata": {},
     "output_type": "display_data"
    },
    {
     "data": {
      "image/png": "[encoded data removed]",
      "text/plain": [
       "<Figure size 432x288 with 1 Axes>"
      ]
     },
     "metadata": {},
     "output_type": "display_data"
    },
    {
     "data": {
      "image/png": "[encoded data removed]",
      "text/plain": [
       "<Figure size 432x288 with 1 Axes>"
      ]
     },
     "metadata": {},
     "output_type": "display_data"
    },
    {
     "data": {
      "image/png": "[encoded data removed]",
      "text/plain": [
       "<Figure size 432x288 with 1 Axes>"
      ]
     },
     "metadata": {},
     "output_type": "display_data"
    },
    {
     "data": {
      "image/png": "[encoded data removed]",
      "text/plain": [
       "<Figure size 432x288 with 1 Axes>"
      ]
     },
     "metadata": {},
     "output_type": "display_data"
    },
    {
     "data": {
      "image/png": "[encoded data removed]",
      "text/plain": [
       "<Figure size 432x288 with 1 Axes>"
      ]
     },
     "metadata": {},
     "output_type": "display_data"
    },
    {
     "data": {
      "image/png": "[encoded data removed]",
      "text/plain": [
       "<Figure size 432x288 with 1 Axes>"
      ]
     },
     "metadata": {},
     "output_type": "display_data"
    },
    {
     "data": {
      "image/png": "[encoded data removed]",
      "text/plain": [
       "<Figure size 432x288 with 1 Axes>"
      ]
     },
     "metadata": {},
     "output_type": "display_data"
    },
    {
     "data": {
      "image/png": "[encoded data removed]",
      "text/plain": [
       "<Figure size 432x288 with 1 Axes>"
      ]
     },
     "metadata": {},
     "output_type": "display_data"
    },
    {
     "data": {
      "image/png": "[encoded data removed]",
      "text/plain": [
       "<Figure size 432x288 with 1 Axes>"
      ]
     },
     "metadata": {},
     "output_type": "display_data"
    },
    {
     "data": {
      "image/png": "[encoded data removed]",
      "text/plain": [
       "<Figure size 432x288 with 1 Axes>"
      ]
     },
     "metadata": {},
     "output_type": "display_data"
    },
    {
     "data": {
      "image/png": "[encoded data removed]",
      "text/plain": [
       "<Figure size 432x288 with 1 Axes>"
      ]
     },
     "metadata": {},
     "output_type": "display_data"
    },
    {
     "data": {
      "image/png": "[encoded data removed]",
      "text/plain": [
       "<Figure size 432x288 with 1 Axes>"
      ]
     },
     "metadata": {},
     "output_type": "display_data"
    },
    {
     "data": {
      "image/png": "[encoded data removed]",
      "text/plain": [
       "<Figure size 432x288 with 1 Axes>"
      ]
     },
     "metadata": {},
     "output_type": "display_data"
    },
    {
     "data": {
      "image/png": "[encoded data removed]",
      "text/plain": [
       "<Figure size 432x288 with 1 Axes>"
      ]
     },
     "metadata": {},
     "output_type": "display_data"
    },
    {
     "data": {
      "image/png": "[encoded data removed]",
      "text/plain": [
       "<Figure size 432x288 with 1 Axes>"
      ]
     },
     "metadata": {},
     "output_type": "display_data"
    },
    {
     "data": {
      "image/png": "[encoded data removed]",
      "text/plain": [
       "<Figure size 432x288 with 1 Axes>"
      ]
     },
     "metadata": {},
     "output_type": "display_data"
    },
    {
     "data": {
      "image/png": "[encoded data removed]",
      "text/plain": [
       "<Figure size 432x288 with 1 Axes>"
      ]
     },
     "metadata": {},
     "output_type": "display_data"
    },
    {
     "data": {
      "image/png": "[encoded data removed]",
      "text/plain": [
       "<Figure size 432x288 with 1 Axes>"
      ]
     },
     "metadata": {},
     "output_type": "display_data"
    },
    {
     "data": {
      "image/png": "[encoded data removed]",
      "text/plain": [
       "<Figure size 432x288 with 1 Axes>"
      ]
     },
     "metadata": {},
     "output_type": "display_data"
    },
    {
     "data": {
      "image/png": "[encoded data removed]",
      "text/plain": [
       "<Figure size 432x288 with 1 Axes>"
      ]
     },
     "metadata": {},
     "output_type": "display_data"
    },
    {
     "data": {
      "image/png": "[encoded data removed]",
      "text/plain": [
       "<Figure size 432x288 with 1 Axes>"
      ]
     },
     "metadata": {},
     "output_type": "display_data"
    },
    {
     "data": {
      "image/png": "[encoded data removed]",
      "text/plain": [
       "<Figure size 432x288 with 1 Axes>"
      ]
     },
     "metadata": {},
     "output_type": "display_data"
    }
   ],
   "source": [
    "for i in feature_maps:  #################################\n",
    "    for n in range(24):\n",
    "        # specify subplot and turn of axis\n",
    "        ax = plt.subplot(8, 8, 1)\n",
    "        ax.set_xticks([])\n",
    "        ax.set_yticks([])\n",
    "        # plot filter channel in grayscale\n",
    "        plt.imshow(i[:, :, n], cmap='gray')\n",
    "        plt.show()\n",
    "        ix += 1\n",
    "# show the figure"
   ]
  },
  {
   "cell_type": "code",
   "execution_count": 30,
   "id": "48b2a5f5",
   "metadata": {},
   "outputs": [
    {
     "ename": "TypeError",
     "evalue": "'Conv2D' object is not iterable",
     "output_type": "error",
     "traceback": [
      "\u001b[1;31m---------------------------------------------------------------------------\u001b[0m",
      "\u001b[1;31mTypeError\u001b[0m                                 Traceback (most recent call last)",
      "\u001b[1;32m<ipython-input-30-e6c97d11cd6e>\u001b[0m in \u001b[0;36m<module>\u001b[1;34m\u001b[0m\n\u001b[1;32m----> 1\u001b[1;33m \u001b[0mact_map\u001b[0m\u001b[1;33m(\u001b[0m\u001b[0my_train2\u001b[0m\u001b[1;33m)\u001b[0m\u001b[1;33m\u001b[0m\u001b[1;33m\u001b[0m\u001b[0m\n\u001b[0m",
      "\u001b[1;32m<ipython-input-29-f3d2ecc6e090>\u001b[0m in \u001b[0;36mact_map\u001b[1;34m(y)\u001b[0m\n\u001b[0;32m     14\u001b[0m         \u001b[1;31m#print(\"Image (#{}):\".format(letter_i ))                                           # impresión de información y label\u001b[0m\u001b[1;33m\u001b[0m\u001b[1;33m\u001b[0m\u001b[1;33m\u001b[0m\u001b[0m\n\u001b[0;32m     15\u001b[0m \u001b[1;33m\u001b[0m\u001b[0m\n\u001b[1;32m---> 16\u001b[1;33m         \u001b[0mlayer_outputs\u001b[0m \u001b[1;33m=\u001b[0m \u001b[1;33m[\u001b[0m\u001b[0mlayer\u001b[0m\u001b[1;33m.\u001b[0m\u001b[0moutput\u001b[0m \u001b[1;32mfor\u001b[0m \u001b[0mlayer\u001b[0m \u001b[1;32min\u001b[0m \u001b[0mmodel\u001b[0m\u001b[1;33m.\u001b[0m\u001b[0mlayers\u001b[0m\u001b[1;33m[\u001b[0m\u001b[1;36m0\u001b[0m\u001b[1;33m]\u001b[0m\u001b[1;33m]\u001b[0m\u001b[1;33m\u001b[0m\u001b[1;33m\u001b[0m\u001b[0m\n\u001b[0m\u001b[0;32m     17\u001b[0m         \u001b[1;31m# Extracts the outputs of the top 12 layers\u001b[0m\u001b[1;33m\u001b[0m\u001b[1;33m\u001b[0m\u001b[1;33m\u001b[0m\u001b[0m\n\u001b[0;32m     18\u001b[0m         \u001b[0mactivation_model\u001b[0m \u001b[1;33m=\u001b[0m \u001b[0mmodels\u001b[0m\u001b[1;33m.\u001b[0m\u001b[0mModel\u001b[0m\u001b[1;33m(\u001b[0m\u001b[0minputs\u001b[0m\u001b[1;33m=\u001b[0m\u001b[0mclassifier\u001b[0m\u001b[1;33m.\u001b[0m\u001b[0minput\u001b[0m\u001b[1;33m,\u001b[0m \u001b[0moutputs\u001b[0m\u001b[1;33m=\u001b[0m\u001b[0mlayer_outputs\u001b[0m\u001b[1;33m)\u001b[0m \u001b[1;31m# Creates a model that will return these outputs, given the model input\u001b[0m\u001b[1;33m\u001b[0m\u001b[1;33m\u001b[0m\u001b[0m\n",
      "\u001b[1;31mTypeError\u001b[0m: 'Conv2D' object is not iterable"
     ]
    }
   ],
   "source": [
    "target_size=(512,512)\n",
    "array_i = np.array([])\n",
    "for i in range(26):\n",
    "    index_i =  np.where(y == i+1)\n",
    "    array_i = np.append(array_i,index_i[0][0])\n",
    "array_i = array_i.astype(int)\n",
    "for i in array_i:\n",
    "    %matplotlib inline                                                              \n",
    "    letter_i = i                                                                   # dato específico\n",
    "    abc = X_train[letter_i ]                                                       # variable con imagen de entrenamiento específica\n",
    "    #plt.imshow(abc, cmap='gray', interpolation='nearest')                             # impresión de variable\n",
    "    #plt.show()\n",
    "    #print(\"Image (#{}):\".format(letter_i ))                                           # impresión de información y label\n",
    "\n"
   ]
  }
 ],
 "metadata": {
  "kernelspec": {
   "display_name": "Python 3",
   "language": "python",
   "name": "python3"
  },
  "language_info": {
   "codemirror_mode": {
    "name": "ipython",
    "version": 3
   },
   "file_extension": ".py",
   "mimetype": "text/x-python",
   "name": "python",
   "nbconvert_exporter": "python",
   "pygments_lexer": "ipython3",
   "version": "3.8.11"
  }
 },
 "nbformat": 4,
 "nbformat_minor": 5
}
